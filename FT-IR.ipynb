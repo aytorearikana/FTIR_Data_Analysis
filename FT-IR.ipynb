{
 "cells": [
  {
   "cell_type": "markdown",
   "id": "f4b00e28",
   "metadata": {},
   "source": [
    "# DATA ANALYSIS FOR FT-IR FILES"
   ]
  },
  {
   "cell_type": "markdown",
   "id": "78f6732c",
   "metadata": {},
   "source": [
    "## Importing the Libraries"
   ]
  },
  {
   "cell_type": "code",
   "execution_count": 1,
   "id": "fa6d999b",
   "metadata": {},
   "outputs": [],
   "source": [
    "import pandas as pd\n",
    "import numpy as np\n",
    "from matplotlib import pyplot as plt\n",
    "import io\n",
    "import base64\n",
    "import IPython.display as display"
   ]
  },
  {
   "cell_type": "markdown",
   "id": "a434cbf6",
   "metadata": {},
   "source": [
    "## Uploading the data"
   ]
  }
 ],
 "metadata": {
  "kernelspec": {
   "display_name": "base",
   "language": "python",
   "name": "python3"
  },
  "language_info": {
   "codemirror_mode": {
    "name": "ipython",
    "version": 3
   },
   "file_extension": ".py",
   "mimetype": "text/x-python",
   "name": "python",
   "nbconvert_exporter": "python",
   "pygments_lexer": "ipython3",
   "version": "3.8.5"
  }
 },
 "nbformat": 4,
 "nbformat_minor": 5
}
